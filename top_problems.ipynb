{
 "cells": [
  {
   "cell_type": "code",
   "execution_count": 1,
   "metadata": {},
   "outputs": [],
   "source": [
    "# TODO change difficulty score to middle being the best and 1 and 4 being the worst (too easy and too hard is bad)\n",
    "# TODO filter negative comments for the worst areas and positive comments for the best areas\n",
    "# TODO change the reason of a problem if section score is too high (higher than course score)"
   ]
  },
  {
   "cell_type": "markdown",
   "metadata": {},
   "source": [
    "# Top problems"
   ]
  },
  {
   "cell_type": "markdown",
   "metadata": {},
   "source": [
    "## Importing libraries"
   ]
  },
  {
   "cell_type": "code",
   "execution_count": 2,
   "metadata": {},
   "outputs": [],
   "source": [
    "from collections import Counter\n",
    "import numpy as np\n",
    "import pandas as pd\n",
    "import re"
   ]
  },
  {
   "cell_type": "markdown",
   "metadata": {},
   "source": [
    "## Loading raw files"
   ]
  },
  {
   "cell_type": "code",
   "execution_count": 3,
   "metadata": {},
   "outputs": [],
   "source": [
    "answers_raw             = pd.read_excel('./data/odpovedi_202105081142.xlsx', sheet_name='Sheet0')\n",
    "courses_raw             = pd.read_excel('./data/predmety_202105081148.xlsx', sheet_name='Sheet0')\n",
    "english_lemma_cloud_raw = pd.read_csv('./data/EnglishLemmaCloud.csv', usecols=['ID','lemma','SENTIMENT'])\n",
    "questionnaires_raw      = pd.read_excel('./data/dotazniky_202105081150.xlsx', sheet_name='Sheet0')\n",
    "questions_raw           = pd.read_excel('./data/otazky_202105081147.xlsx', sheet_name='Sheet0')\n",
    "sections_raw            = pd.read_excel('./data/dot_sekce_202105081151.xlsx', sheet_name='Sheet0')\n",
    "workplaces_raw          = pd.read_excel('./data/ho_pracoviste_202105081150.xlsx', sheet_name='Sheet0')"
   ]
  },
  {
   "cell_type": "markdown",
   "metadata": {},
   "source": [
    "## Creating working tables from raw files"
   ]
  },
  {
   "cell_type": "code",
   "execution_count": 4,
   "metadata": {},
   "outputs": [],
   "source": [
    "answers             = answers_raw.copy()\n",
    "courses             = courses_raw.copy()\n",
    "english_lemma_cloud = english_lemma_cloud_raw\n",
    "questionnaires      = questionnaires_raw.drop(columns=['VEDLEJSKA']).drop_duplicates() # dropping VEDLEJSKA, as it duplicates ID\n",
    "questions           = questions_raw.copy()\n",
    "sections            = sections_raw.copy()\n",
    "workplaces          = workplaces_raw.copy()"
   ]
  },
  {
   "cell_type": "markdown",
   "metadata": {},
   "source": [
    "## Merging working tables into one df\n",
    "## +\n",
    "## Dropping unnecessary columns and renaming filtered columns"
   ]
  },
  {
   "cell_type": "code",
   "execution_count": 5,
   "metadata": {
    "scrolled": true
   },
   "outputs": [
    {
     "name": "stdout",
     "output_type": "stream",
     "text": [
      "Index(['ID_questionnaire', 'PREDMET', 'HO_PRACOVISTE', 'PROGRAM',\n",
      "       'PROGRAM_PRACOVISTE', 'FORMA', 'OBOR', 'UKONCENI', 'VYSLEDEK',\n",
      "       'DATUM_VYPLNENI', 'DOBA_VYPLNENI', 'ID_answer', 'DOTAZNIK', 'OTAZKA',\n",
      "       'PEDAGOG', 'TYP_AKCE', 'HODNOTA_CISLO', 'HODNOTA_CLOB', 'ID',\n",
      "       'HODN_OBDOBI', 'AKTIVNI', 'PRETIZENO', 'NAZEV', 'ZKRATKA', 'ID_course',\n",
      "       'KOD', 'NAZEV_course', 'GARANTUJICI_PRACOVISTE', 'OBDOBI', 'ID_lemma',\n",
      "       'lemma', 'SENTIMENT', 'ID_question', 'DOT_SEKCE', 'OTAZKA_question',\n",
      "       'OTAZKA_ANG', 'OTAZKA_TYP', 'PORADI', 'PER_PEDAGOG', 'PER_TYP_AKCE',\n",
      "       'HO_PRACOVISTE_question', 'POVINNA_ODPOVED', 'ID_section', 'DOT_CAST',\n",
      "       'NAZEV_section', 'NAZEV_ANG', 'PORADI_section', 'PER_TYP_AKCE_section',\n",
      "       'PER_PEDAGOG_section'],\n",
      "      dtype='object')\n",
      "Index(['id_questionnaire', 'score', 'course', 'period', 'lemma', 'sentiment',\n",
      "       'question', 'per_teacher', 'section'],\n",
      "      dtype='object')\n"
     ]
    }
   ],
   "source": [
    "df = pd.merge(questionnaires, answers,             how='inner', left_on='ID',            right_on='DOTAZNIK', suffixes=['_questionnaire','_answer'])\n",
    "df = pd.merge(df,             workplaces,          how='left',  left_on='HO_PRACOVISTE', right_on='ID',       suffixes=['','_workplace'])\n",
    "df = pd.merge(df,             courses,             how='left',  left_on='PREDMET',       right_on='ID',       suffixes=['','_course'])\n",
    "df = pd.merge(df,             english_lemma_cloud, how='left',  left_on='ID_answer',     right_on='ID',       suffixes=['','_lemma'])\n",
    "df = pd.merge(df,             questions,           how='left',  left_on='OTAZKA',        right_on='ID',       suffixes=['','_question'])\n",
    "df = pd.merge(df,             sections,            how='left',  left_on='DOT_SEKCE',     right_on='ID',       suffixes=['','_section'])\n",
    "\n",
    "print(df.columns)\n",
    "\n",
    "df.drop(inplace=True,columns=['PREDMET','HO_PRACOVISTE','PROGRAM','PROGRAM_PRACOVISTE','FORMA','OBOR','UKONCENI','VYSLEDEK','DATUM_VYPLNENI','DOBA_VYPLNENI','ID_answer','DOTAZNIK','OTAZKA','PEDAGOG','TYP_AKCE','HODNOTA_CLOB','ID','HODN_OBDOBI','AKTIVNI','PRETIZENO','NAZEV','ZKRATKA','ID_course','KOD','GARANTUJICI_PRACOVISTE','ID_lemma','ID_question','DOT_SEKCE','OTAZKA_ANG','OTAZKA_TYP','PORADI','PER_TYP_AKCE','HO_PRACOVISTE_question','POVINNA_ODPOVED','ID_section','DOT_CAST','NAZEV_ANG','PORADI_section','PER_TYP_AKCE_section','PER_PEDAGOG_section'])\n",
    "df.rename(inplace=True,columns={'ID_questionnaire':'id_questionnaire', 'ID_answer':'id_answer', 'HODNOTA_CISLO':'score', 'NAZEV_course':'course', 'OBDOBI':'period', 'SENTIMENT':'sentiment' ,'OTAZKA_question':'question' ,'PER_PEDAGOG':'per_teacher' ,'NAZEV_section':'section'})\n",
    "\n",
    "print(df.columns)"
   ]
  },
  {
   "cell_type": "markdown",
   "metadata": {},
   "source": [
    "## Adding year_semester, so data can be sorted from newest to oldest"
   ]
  },
  {
   "cell_type": "code",
   "execution_count": 6,
   "metadata": {},
   "outputs": [
    {
     "data": {
      "text/html": [
       "<div>\n",
       "<style scoped>\n",
       "    .dataframe tbody tr th:only-of-type {\n",
       "        vertical-align: middle;\n",
       "    }\n",
       "\n",
       "    .dataframe tbody tr th {\n",
       "        vertical-align: top;\n",
       "    }\n",
       "\n",
       "    .dataframe thead th {\n",
       "        text-align: right;\n",
       "    }\n",
       "</style>\n",
       "<table border=\"1\" class=\"dataframe\">\n",
       "  <thead>\n",
       "    <tr style=\"text-align: right;\">\n",
       "      <th></th>\n",
       "      <th>id_questionnaire</th>\n",
       "      <th>score</th>\n",
       "      <th>course</th>\n",
       "      <th>period</th>\n",
       "      <th>lemma</th>\n",
       "      <th>sentiment</th>\n",
       "      <th>question</th>\n",
       "      <th>per_teacher</th>\n",
       "      <th>section</th>\n",
       "      <th>semester</th>\n",
       "      <th>year_semester</th>\n",
       "    </tr>\n",
       "  </thead>\n",
       "  <tbody>\n",
       "    <tr>\n",
       "      <th>0</th>\n",
       "      <td>357017</td>\n",
       "      <td>NaN</td>\n",
       "      <td>Informatika (v angličtině)</td>\n",
       "      <td>ZS 2019/2020</td>\n",
       "      <td>NaN</td>\n",
       "      <td>NaN</td>\n",
       "      <td>Co a jak by se na výuce mohlo zlepšit (cvičení...</td>\n",
       "      <td>0</td>\n",
       "      <td>Celková spokojenost s předmětem a náměty na zl...</td>\n",
       "      <td>ZS</td>\n",
       "      <td>2019/2020_0</td>\n",
       "    </tr>\n",
       "    <tr>\n",
       "      <th>1</th>\n",
       "      <td>357017</td>\n",
       "      <td>NaN</td>\n",
       "      <td>Informatika (v angličtině)</td>\n",
       "      <td>ZS 2019/2020</td>\n",
       "      <td>NaN</td>\n",
       "      <td>NaN</td>\n",
       "      <td>Látka probíraná v předmětu se NEPŘEKRÝVALA s j...</td>\n",
       "      <td>0</td>\n",
       "      <td>Překryv s jinými předměty</td>\n",
       "      <td>ZS</td>\n",
       "      <td>2019/2020_0</td>\n",
       "    </tr>\n",
       "    <tr>\n",
       "      <th>2</th>\n",
       "      <td>357017</td>\n",
       "      <td>3.0</td>\n",
       "      <td>Informatika (v angličtině)</td>\n",
       "      <td>ZS 2019/2020</td>\n",
       "      <td>NaN</td>\n",
       "      <td>NaN</td>\n",
       "      <td>Celkově jsem s kvalitou předmětu spokojen/a (h...</td>\n",
       "      <td>0</td>\n",
       "      <td>Celková spokojenost s předmětem a náměty na zl...</td>\n",
       "      <td>ZS</td>\n",
       "      <td>2019/2020_0</td>\n",
       "    </tr>\n",
       "    <tr>\n",
       "      <th>3</th>\n",
       "      <td>357017</td>\n",
       "      <td>4.0</td>\n",
       "      <td>Informatika (v angličtině)</td>\n",
       "      <td>ZS 2019/2020</td>\n",
       "      <td>NaN</td>\n",
       "      <td>NaN</td>\n",
       "      <td>Srozumitelnost výkladu a schopnost vysvětlit l...</td>\n",
       "      <td>1</td>\n",
       "      <td>Jak na mě působil vyučující z následujících hl...</td>\n",
       "      <td>ZS</td>\n",
       "      <td>2019/2020_0</td>\n",
       "    </tr>\n",
       "    <tr>\n",
       "      <th>4</th>\n",
       "      <td>357017</td>\n",
       "      <td>4.0</td>\n",
       "      <td>Informatika (v angličtině)</td>\n",
       "      <td>ZS 2019/2020</td>\n",
       "      <td>NaN</td>\n",
       "      <td>NaN</td>\n",
       "      <td>Připravenost přednášek/cvičení</td>\n",
       "      <td>1</td>\n",
       "      <td>Jak na mě působil vyučující z následujících hl...</td>\n",
       "      <td>ZS</td>\n",
       "      <td>2019/2020_0</td>\n",
       "    </tr>\n",
       "  </tbody>\n",
       "</table>\n",
       "</div>"
      ],
      "text/plain": [
       "   id_questionnaire  score                      course        period lemma  \\\n",
       "0            357017    NaN  Informatika (v angličtině)  ZS 2019/2020   NaN   \n",
       "1            357017    NaN  Informatika (v angličtině)  ZS 2019/2020   NaN   \n",
       "2            357017    3.0  Informatika (v angličtině)  ZS 2019/2020   NaN   \n",
       "3            357017    4.0  Informatika (v angličtině)  ZS 2019/2020   NaN   \n",
       "4            357017    4.0  Informatika (v angličtině)  ZS 2019/2020   NaN   \n",
       "\n",
       "  sentiment                                           question  per_teacher  \\\n",
       "0       NaN  Co a jak by se na výuce mohlo zlepšit (cvičení...            0   \n",
       "1       NaN  Látka probíraná v předmětu se NEPŘEKRÝVALA s j...            0   \n",
       "2       NaN  Celkově jsem s kvalitou předmětu spokojen/a (h...            0   \n",
       "3       NaN  Srozumitelnost výkladu a schopnost vysvětlit l...            1   \n",
       "4       NaN                     Připravenost přednášek/cvičení            1   \n",
       "\n",
       "                                             section semester year_semester  \n",
       "0  Celková spokojenost s předmětem a náměty na zl...       ZS   2019/2020_0  \n",
       "1                          Překryv s jinými předměty       ZS   2019/2020_0  \n",
       "2  Celková spokojenost s předmětem a náměty na zl...       ZS   2019/2020_0  \n",
       "3  Jak na mě působil vyučující z následujících hl...       ZS   2019/2020_0  \n",
       "4  Jak na mě působil vyučující z následujících hl...       ZS   2019/2020_0  "
      ]
     },
     "execution_count": 6,
     "metadata": {},
     "output_type": "execute_result"
    }
   ],
   "source": [
    "df[['semester','year']] = df['period'].str.split(' ',expand=True)\n",
    "df['id_semester'] = np.where(df['semester']=='ZS','0','1')\n",
    "df['year_semester'] = df['year'] + '_' + df['id_semester']\n",
    "df.drop(inplace=True,columns=['year','id_semester'])\n",
    "\n",
    "df.head()"
   ]
  },
  {
   "cell_type": "markdown",
   "metadata": {},
   "source": [
    "## Checking shapes after merging"
   ]
  },
  {
   "cell_type": "code",
   "execution_count": 7,
   "metadata": {},
   "outputs": [
    {
     "name": "stdout",
     "output_type": "stream",
     "text": [
      "answers_raw\t\t(105410, 7)\n",
      "english_lemma_cloud_raw\t(6666, 3)\n",
      "courses_raw\t\t(6678, 5)\n",
      "questionnaires_raw\t(12706, 12)\n",
      "questions_raw\t\t(52, 10)\n",
      "sections_raw\t\t(14, 7)\n",
      "workplaces_raw\t\t(36, 6)\n",
      "df\t\t\t(105410, 11)\n"
     ]
    },
    {
     "data": {
      "text/plain": [
       "True"
      ]
     },
     "execution_count": 7,
     "metadata": {},
     "output_type": "execute_result"
    }
   ],
   "source": [
    "print('answers_raw\\t\\t'           + str(answers_raw.shape))\n",
    "print('english_lemma_cloud_raw\\t' + str(english_lemma_cloud_raw.shape))\n",
    "print('courses_raw\\t\\t'           + str(courses_raw.shape))\n",
    "print('questionnaires_raw\\t'      + str(questionnaires_raw.shape))\n",
    "print('questions_raw\\t\\t'         + str(questions_raw.shape))\n",
    "print('sections_raw\\t\\t'          + str(sections_raw.shape))\n",
    "print('workplaces_raw\\t\\t'        + str(workplaces_raw.shape))\n",
    "print('df\\t\\t\\t'                  + str(df.shape))\n",
    "\n",
    "len(answers_raw) == len(df)"
   ]
  },
  {
   "cell_type": "markdown",
   "metadata": {},
   "source": [
    "## Aggregating mean and count of score by course and year_semester and sorting each course from newest to oldest"
   ]
  },
  {
   "cell_type": "code",
   "execution_count": 8,
   "metadata": {
    "scrolled": true
   },
   "outputs": [
    {
     "data": {
      "text/html": [
       "<div>\n",
       "<style scoped>\n",
       "    .dataframe tbody tr th:only-of-type {\n",
       "        vertical-align: middle;\n",
       "    }\n",
       "\n",
       "    .dataframe tbody tr th {\n",
       "        vertical-align: top;\n",
       "    }\n",
       "\n",
       "    .dataframe thead th {\n",
       "        text-align: right;\n",
       "    }\n",
       "</style>\n",
       "<table border=\"1\" class=\"dataframe\">\n",
       "  <thead>\n",
       "    <tr style=\"text-align: right;\">\n",
       "      <th></th>\n",
       "      <th>course</th>\n",
       "      <th>year_semester</th>\n",
       "      <th>score_count</th>\n",
       "      <th>score_mean</th>\n",
       "    </tr>\n",
       "  </thead>\n",
       "  <tbody>\n",
       "    <tr>\n",
       "      <th>0</th>\n",
       "      <td>Academic Writing - odborný písemný projev (C1)</td>\n",
       "      <td>2019/2020_0</td>\n",
       "      <td>9</td>\n",
       "      <td>3.78</td>\n",
       "    </tr>\n",
       "    <tr>\n",
       "      <th>1</th>\n",
       "      <td>Agilní projekt vývoje webové aplikace</td>\n",
       "      <td>2020/2021_0</td>\n",
       "      <td>190</td>\n",
       "      <td>3.69</td>\n",
       "    </tr>\n",
       "    <tr>\n",
       "      <th>2</th>\n",
       "      <td>Agilní vývoj webových aplikací</td>\n",
       "      <td>2019/2020_0</td>\n",
       "      <td>223</td>\n",
       "      <td>3.48</td>\n",
       "    </tr>\n",
       "    <tr>\n",
       "      <th>5</th>\n",
       "      <td>Analýza a návrh informačních systémů</td>\n",
       "      <td>2020/2021_0</td>\n",
       "      <td>863</td>\n",
       "      <td>3.53</td>\n",
       "    </tr>\n",
       "    <tr>\n",
       "      <th>4</th>\n",
       "      <td>Analýza a návrh informačních systémů</td>\n",
       "      <td>2019/2020_1</td>\n",
       "      <td>615</td>\n",
       "      <td>3.44</td>\n",
       "    </tr>\n",
       "    <tr>\n",
       "      <th>3</th>\n",
       "      <td>Analýza a návrh informačních systémů</td>\n",
       "      <td>2019/2020_0</td>\n",
       "      <td>747</td>\n",
       "      <td>3.55</td>\n",
       "    </tr>\n",
       "    <tr>\n",
       "      <th>8</th>\n",
       "      <td>Analýza a návrh testů softwaru</td>\n",
       "      <td>2020/2021_0</td>\n",
       "      <td>207</td>\n",
       "      <td>3.61</td>\n",
       "    </tr>\n",
       "    <tr>\n",
       "      <th>7</th>\n",
       "      <td>Analýza a návrh testů softwaru</td>\n",
       "      <td>2019/2020_1</td>\n",
       "      <td>266</td>\n",
       "      <td>3.47</td>\n",
       "    </tr>\n",
       "    <tr>\n",
       "      <th>6</th>\n",
       "      <td>Analýza a návrh testů softwaru</td>\n",
       "      <td>2019/2020_0</td>\n",
       "      <td>332</td>\n",
       "      <td>3.51</td>\n",
       "    </tr>\n",
       "    <tr>\n",
       "      <th>10</th>\n",
       "      <td>Analýza kategoriálních dat</td>\n",
       "      <td>2020/2021_0</td>\n",
       "      <td>58</td>\n",
       "      <td>3.55</td>\n",
       "    </tr>\n",
       "  </tbody>\n",
       "</table>\n",
       "</div>"
      ],
      "text/plain": [
       "                                            course year_semester  score_count  \\\n",
       "0   Academic Writing - odborný písemný projev (C1)   2019/2020_0            9   \n",
       "1            Agilní projekt vývoje webové aplikace   2020/2021_0          190   \n",
       "2                   Agilní vývoj webových aplikací   2019/2020_0          223   \n",
       "5             Analýza a návrh informačních systémů   2020/2021_0          863   \n",
       "4             Analýza a návrh informačních systémů   2019/2020_1          615   \n",
       "3             Analýza a návrh informačních systémů   2019/2020_0          747   \n",
       "8                   Analýza a návrh testů softwaru   2020/2021_0          207   \n",
       "7                   Analýza a návrh testů softwaru   2019/2020_1          266   \n",
       "6                   Analýza a návrh testů softwaru   2019/2020_0          332   \n",
       "10                      Analýza kategoriálních dat   2020/2021_0           58   \n",
       "\n",
       "    score_mean  \n",
       "0         3.78  \n",
       "1         3.69  \n",
       "2         3.48  \n",
       "5         3.53  \n",
       "4         3.44  \n",
       "3         3.55  \n",
       "8         3.61  \n",
       "7         3.47  \n",
       "6         3.51  \n",
       "10        3.55  "
      ]
     },
     "execution_count": 8,
     "metadata": {},
     "output_type": "execute_result"
    }
   ],
   "source": [
    "df_grouped = df.groupby(['course', 'year_semester'])['score'].agg([('score_count', 'count'), ('score_mean', 'mean')]).reset_index().sort_values(by=['course', 'year_semester'], ascending=(True,False))\n",
    "df_grouped['score_mean'] = df_grouped['score_mean'].round(2)\n",
    "\n",
    "df_grouped.head(10)"
   ]
  },
  {
   "cell_type": "markdown",
   "metadata": {},
   "source": [
    "## Creating variable for the newest semester in data"
   ]
  },
  {
   "cell_type": "code",
   "execution_count": 9,
   "metadata": {},
   "outputs": [
    {
     "data": {
      "text/plain": [
       "'2020/2021_0'"
      ]
     },
     "execution_count": 9,
     "metadata": {},
     "output_type": "execute_result"
    }
   ],
   "source": [
    "newest_semester = df_grouped['year_semester'].max()\n",
    "newest_semester"
   ]
  },
  {
   "cell_type": "markdown",
   "metadata": {},
   "source": [
    "## Courses, which occur only in the newest semester, are evaluated by their average score from worst to best"
   ]
  },
  {
   "cell_type": "code",
   "execution_count": 10,
   "metadata": {},
   "outputs": [
    {
     "data": {
      "text/html": [
       "<div>\n",
       "<style scoped>\n",
       "    .dataframe tbody tr th:only-of-type {\n",
       "        vertical-align: middle;\n",
       "    }\n",
       "\n",
       "    .dataframe tbody tr th {\n",
       "        vertical-align: top;\n",
       "    }\n",
       "\n",
       "    .dataframe thead th {\n",
       "        text-align: right;\n",
       "    }\n",
       "</style>\n",
       "<table border=\"1\" class=\"dataframe\">\n",
       "  <thead>\n",
       "    <tr style=\"text-align: right;\">\n",
       "      <th></th>\n",
       "      <th>course</th>\n",
       "      <th>year_semester</th>\n",
       "      <th>score_count</th>\n",
       "      <th>score_mean</th>\n",
       "      <th>course_type</th>\n",
       "    </tr>\n",
       "  </thead>\n",
       "  <tbody>\n",
       "    <tr>\n",
       "      <th>271</th>\n",
       "      <td>Posilování</td>\n",
       "      <td>2020/2021_0</td>\n",
       "      <td>8</td>\n",
       "      <td>1.00</td>\n",
       "      <td>new</td>\n",
       "    </tr>\n",
       "    <tr>\n",
       "      <th>437</th>\n",
       "      <td>Šerm</td>\n",
       "      <td>2020/2021_0</td>\n",
       "      <td>4</td>\n",
       "      <td>1.00</td>\n",
       "      <td>new</td>\n",
       "    </tr>\n",
       "    <tr>\n",
       "      <th>365</th>\n",
       "      <td>Uznání zápočtu TV z jiné fakulty, VŠ 1</td>\n",
       "      <td>2020/2021_0</td>\n",
       "      <td>4</td>\n",
       "      <td>1.00</td>\n",
       "      <td>new</td>\n",
       "    </tr>\n",
       "    <tr>\n",
       "      <th>407</th>\n",
       "      <td>Úvod do programování v jazyce Python</td>\n",
       "      <td>2020/2021_0</td>\n",
       "      <td>44</td>\n",
       "      <td>2.32</td>\n",
       "      <td>new</td>\n",
       "    </tr>\n",
       "    <tr>\n",
       "      <th>320</th>\n",
       "      <td>Softwarové architektury</td>\n",
       "      <td>2020/2021_0</td>\n",
       "      <td>212</td>\n",
       "      <td>2.58</td>\n",
       "      <td>new</td>\n",
       "    </tr>\n",
       "    <tr>\n",
       "      <th>252</th>\n",
       "      <td>Pilates</td>\n",
       "      <td>2020/2021_0</td>\n",
       "      <td>4</td>\n",
       "      <td>2.75</td>\n",
       "      <td>new</td>\n",
       "    </tr>\n",
       "    <tr>\n",
       "      <th>327</th>\n",
       "      <td>Sportovní lezení</td>\n",
       "      <td>2020/2021_0</td>\n",
       "      <td>32</td>\n",
       "      <td>2.75</td>\n",
       "      <td>new</td>\n",
       "    </tr>\n",
       "    <tr>\n",
       "      <th>230</th>\n",
       "      <td>Neplavci a slabí plavci</td>\n",
       "      <td>2020/2021_0</td>\n",
       "      <td>5</td>\n",
       "      <td>2.80</td>\n",
       "      <td>new</td>\n",
       "    </tr>\n",
       "    <tr>\n",
       "      <th>410</th>\n",
       "      <td>Účetnictví I.</td>\n",
       "      <td>2020/2021_0</td>\n",
       "      <td>35</td>\n",
       "      <td>2.94</td>\n",
       "      <td>new</td>\n",
       "    </tr>\n",
       "  </tbody>\n",
       "</table>\n",
       "</div>"
      ],
      "text/plain": [
       "                                     course year_semester  score_count  \\\n",
       "271                              Posilování   2020/2021_0            8   \n",
       "437                                    Šerm   2020/2021_0            4   \n",
       "365  Uznání zápočtu TV z jiné fakulty, VŠ 1   2020/2021_0            4   \n",
       "407    Úvod do programování v jazyce Python   2020/2021_0           44   \n",
       "320                 Softwarové architektury   2020/2021_0          212   \n",
       "252                                 Pilates   2020/2021_0            4   \n",
       "327                        Sportovní lezení   2020/2021_0           32   \n",
       "230                 Neplavci a slabí plavci   2020/2021_0            5   \n",
       "410                           Účetnictví I.   2020/2021_0           35   \n",
       "\n",
       "     score_mean course_type  \n",
       "271        1.00         new  \n",
       "437        1.00         new  \n",
       "365        1.00         new  \n",
       "407        2.32         new  \n",
       "320        2.58         new  \n",
       "252        2.75         new  \n",
       "327        2.75         new  \n",
       "230        2.80         new  \n",
       "410        2.94         new  "
      ]
     },
     "execution_count": 10,
     "metadata": {},
     "output_type": "execute_result"
    }
   ],
   "source": [
    "df_new_courses = df_grouped.drop_duplicates(keep=False, subset=['course'], inplace=False)\n",
    "df_new_courses = df_new_courses[(df_new_courses['year_semester'] == newest_semester)].sort_values(by='score_mean')\n",
    "df_new_courses['course_type'] = 'new'\n",
    "\n",
    "df_new_courses = df_new_courses[df_new_courses['score_mean'] < 3]\n",
    "\n",
    "df_new_courses.head(15)"
   ]
  },
  {
   "cell_type": "markdown",
   "metadata": {},
   "source": [
    "## Courses, which occur in the newest semester as well as in at least one other, are evaluated by the absolute diff between newest semester and the previous one (whenever it was) absolute diff is used, so drop from 2 to 1 has the same weight as drop from 4 to 3"
   ]
  },
  {
   "cell_type": "code",
   "execution_count": 11,
   "metadata": {
    "scrolled": true
   },
   "outputs": [
    {
     "data": {
      "text/html": [
       "<div>\n",
       "<style scoped>\n",
       "    .dataframe tbody tr th:only-of-type {\n",
       "        vertical-align: middle;\n",
       "    }\n",
       "\n",
       "    .dataframe tbody tr th {\n",
       "        vertical-align: top;\n",
       "    }\n",
       "\n",
       "    .dataframe thead th {\n",
       "        text-align: right;\n",
       "    }\n",
       "</style>\n",
       "<table border=\"1\" class=\"dataframe\">\n",
       "  <thead>\n",
       "    <tr style=\"text-align: right;\">\n",
       "      <th></th>\n",
       "      <th>course</th>\n",
       "      <th>year_semester</th>\n",
       "      <th>score_count</th>\n",
       "      <th>score_mean</th>\n",
       "      <th>score_mean_previous</th>\n",
       "      <th>score_mean_diff</th>\n",
       "      <th>course_type</th>\n",
       "    </tr>\n",
       "  </thead>\n",
       "  <tbody>\n",
       "    <tr>\n",
       "      <th>131</th>\n",
       "      <td>Hokej</td>\n",
       "      <td>2020/2021_0</td>\n",
       "      <td>4</td>\n",
       "      <td>1.75</td>\n",
       "      <td>3.67</td>\n",
       "      <td>-1.92</td>\n",
       "      <td>existing</td>\n",
       "    </tr>\n",
       "    <tr>\n",
       "      <th>353</th>\n",
       "      <td>Thai box</td>\n",
       "      <td>2020/2021_0</td>\n",
       "      <td>8</td>\n",
       "      <td>2.12</td>\n",
       "      <td>3.88</td>\n",
       "      <td>-1.76</td>\n",
       "      <td>existing</td>\n",
       "    </tr>\n",
       "    <tr>\n",
       "      <th>297</th>\n",
       "      <td>Právo počítačové a informačních a komunikačníc...</td>\n",
       "      <td>2020/2021_0</td>\n",
       "      <td>44</td>\n",
       "      <td>2.75</td>\n",
       "      <td>3.62</td>\n",
       "      <td>-0.87</td>\n",
       "      <td>existing</td>\n",
       "    </tr>\n",
       "    <tr>\n",
       "      <th>172</th>\n",
       "      <td>Jak uspět v médiích</td>\n",
       "      <td>2020/2021_0</td>\n",
       "      <td>10</td>\n",
       "      <td>2.70</td>\n",
       "      <td>3.56</td>\n",
       "      <td>-0.86</td>\n",
       "      <td>existing</td>\n",
       "    </tr>\n",
       "    <tr>\n",
       "      <th>124</th>\n",
       "      <td>Funkční kruhový trénink</td>\n",
       "      <td>2020/2021_0</td>\n",
       "      <td>42</td>\n",
       "      <td>3.14</td>\n",
       "      <td>3.96</td>\n",
       "      <td>-0.82</td>\n",
       "      <td>existing</td>\n",
       "    </tr>\n",
       "    <tr>\n",
       "      <th>163</th>\n",
       "      <td>International Week - KIZI</td>\n",
       "      <td>2020/2021_0</td>\n",
       "      <td>10</td>\n",
       "      <td>2.30</td>\n",
       "      <td>2.88</td>\n",
       "      <td>-0.58</td>\n",
       "      <td>existing</td>\n",
       "    </tr>\n",
       "    <tr>\n",
       "      <th>371</th>\n",
       "      <td>Užití MS Excelu v podnikové praxi (v angličtině)</td>\n",
       "      <td>2020/2021_0</td>\n",
       "      <td>129</td>\n",
       "      <td>3.28</td>\n",
       "      <td>3.85</td>\n",
       "      <td>-0.57</td>\n",
       "      <td>existing</td>\n",
       "    </tr>\n",
       "    <tr>\n",
       "      <th>425</th>\n",
       "      <td>Řízení podnikové výkonnosti v nástrojích CPM a...</td>\n",
       "      <td>2020/2021_0</td>\n",
       "      <td>128</td>\n",
       "      <td>3.06</td>\n",
       "      <td>3.62</td>\n",
       "      <td>-0.56</td>\n",
       "      <td>existing</td>\n",
       "    </tr>\n",
       "    <tr>\n",
       "      <th>379</th>\n",
       "      <td>Využití ICT ve finančním účetnictví</td>\n",
       "      <td>2020/2021_0</td>\n",
       "      <td>28</td>\n",
       "      <td>2.57</td>\n",
       "      <td>3.11</td>\n",
       "      <td>-0.54</td>\n",
       "      <td>existing</td>\n",
       "    </tr>\n",
       "  </tbody>\n",
       "</table>\n",
       "</div>"
      ],
      "text/plain": [
       "                                                course year_semester  \\\n",
       "131                                              Hokej   2020/2021_0   \n",
       "353                                           Thai box   2020/2021_0   \n",
       "297  Právo počítačové a informačních a komunikačníc...   2020/2021_0   \n",
       "172                                Jak uspět v médiích   2020/2021_0   \n",
       "124                            Funkční kruhový trénink   2020/2021_0   \n",
       "163                          International Week - KIZI   2020/2021_0   \n",
       "371   Užití MS Excelu v podnikové praxi (v angličtině)   2020/2021_0   \n",
       "425  Řízení podnikové výkonnosti v nástrojích CPM a...   2020/2021_0   \n",
       "379                Využití ICT ve finančním účetnictví   2020/2021_0   \n",
       "\n",
       "     score_count  score_mean  score_mean_previous  score_mean_diff course_type  \n",
       "131            4        1.75                 3.67            -1.92    existing  \n",
       "353            8        2.12                 3.88            -1.76    existing  \n",
       "297           44        2.75                 3.62            -0.87    existing  \n",
       "172           10        2.70                 3.56            -0.86    existing  \n",
       "124           42        3.14                 3.96            -0.82    existing  \n",
       "163           10        2.30                 2.88            -0.58    existing  \n",
       "371          129        3.28                 3.85            -0.57    existing  \n",
       "425          128        3.06                 3.62            -0.56    existing  \n",
       "379           28        2.57                 3.11            -0.54    existing  "
      ]
     },
     "execution_count": 11,
     "metadata": {},
     "output_type": "execute_result"
    }
   ],
   "source": [
    "df_existing_courses = df_grouped[df_grouped['course'].duplicated(keep=False)].copy()\n",
    "df_existing_courses['rank'] = df_existing_courses.groupby(['course'])['year_semester'].cumcount()\n",
    "df_existing_courses = df_existing_courses[df_existing_courses['rank'] < 2].drop(columns=['rank']) # keeping only last two semesters for each course\n",
    "df_existing_courses['score_mean_previous'] = df_existing_courses.groupby('course')['score_mean'].shift(-1) # adding score from the previous semester to the following one\n",
    "df_existing_courses = df_existing_courses[df_existing_courses['year_semester'] == newest_semester] # keeping only the newest (current) semester\n",
    "df_existing_courses['score_mean_diff'] = (df_existing_courses['score_mean'] - df_existing_courses['score_mean_previous'])\n",
    "df_existing_courses['course_type'] = 'existing'\n",
    "df_existing_courses = df_existing_courses.sort_values(by='score_mean_diff')\n",
    "\n",
    "df_existing_courses = df_existing_courses[df_existing_courses['score_mean_diff'] < -0.5]\n",
    "\n",
    "df_existing_courses.head(15)"
   ]
  },
  {
   "cell_type": "markdown",
   "metadata": {},
   "source": [
    "## Appending new and existing courses"
   ]
  },
  {
   "cell_type": "code",
   "execution_count": 12,
   "metadata": {},
   "outputs": [
    {
     "data": {
      "text/plain": [
       "True"
      ]
     },
     "execution_count": 12,
     "metadata": {},
     "output_type": "execute_result"
    }
   ],
   "source": [
    "df_new_and_existing_courses = pd.concat([df_new_courses, df_existing_courses],sort=False)\n",
    "\n",
    "len(df_new_and_existing_courses) == len(df_new_courses) + len(df_existing_courses)"
   ]
  },
  {
   "cell_type": "markdown",
   "metadata": {},
   "source": [
    "## Adding reasons, why the worst courses are the worst"
   ]
  },
  {
   "cell_type": "code",
   "execution_count": 13,
   "metadata": {},
   "outputs": [],
   "source": [
    "for index, row in df_new_and_existing_courses.iterrows():\n",
    "    \n",
    "    # sections and their scores\n",
    "    \n",
    "    df_worst_sections = df[(df['course'] == row['course']) & (df['year_semester'] == newest_semester)].groupby(['section'])['score'].agg([('score_mean','mean')]).reset_index()\n",
    "    df_worst_sections = df_worst_sections[df_worst_sections['score_mean'].notna()].sort_values(by='score_mean')\n",
    "    worst_section = df_worst_sections['section'][0]\n",
    "    worst_section_score = df_worst_sections['score_mean'][0].round(2)\n",
    "    \n",
    "    # most frequent comments\n",
    "    \n",
    "    lemma = df[(df['course'] == row['course']) & (df['year_semester'] == newest_semester) & (df['lemma'].notna()) & (df['section'] == worst_section)]['lemma'].copy()\n",
    "    lemma = lemma.str.split()\n",
    "    lemma_frequency = Counter([item for sublist in lemma.tolist() for item in sublist]).most_common()\n",
    "    lemma_frequency_string = str([x for x in lemma_frequency])\n",
    "    words_with_frequency_list = re.sub(\"[^\\w]\", \" \",  lemma_frequency_string).split()\n",
    "    most_frequent_words_list = [x for x in words_with_frequency_list if not x.isdigit()][:10]\n",
    "    most_frequent_words = ', '.join(map(str, most_frequent_words_list))\n",
    "    \n",
    "    # creating columns with the worst section with corresponding score and the most frequent comments\n",
    "    \n",
    "    df_new_and_existing_courses.loc[index,'reason_name'] = worst_section\n",
    "    df_new_and_existing_courses.loc[index,'reason_value'] = worst_section_score\n",
    "    df_new_and_existing_courses.loc[index,'reason_text'] = most_frequent_words"
   ]
  },
  {
   "cell_type": "markdown",
   "metadata": {},
   "source": [
    "## Testing results"
   ]
  },
  {
   "cell_type": "code",
   "execution_count": 14,
   "metadata": {},
   "outputs": [
    {
     "name": "stdout",
     "output_type": "stream",
     "text": [
      "Posilování has a bad score (1.0), because of Celková spokojenost s předmětem a náměty na zlepšení (score: 1.0).\n",
      "Most frequent words in this section: quarantine, improve, taught, D, competence, school, teacher, home, practice, dinghy\n",
      "\n",
      "Šerm has a bad score (1.0), because of Celková spokojenost s předmětem a náměty na zlepšení (score: 1.0).\n",
      "Most frequent words in this section: \n",
      "\n",
      "Uznání zápočtu TV z jiné fakulty, VŠ 1 has a bad score (1.0), because of Celková spokojenost s předmětem a náměty na zlepšení (score: 1.0).\n",
      "Most frequent words in this section: \n",
      "\n",
      "Úvod do programování v jazyce Python has a bad score (2.32), because of Celková spokojenost s předmětem a náměty na zlepšení (score: 1.22).\n",
      "Most frequent words in this section: focus, data, program, teach, object, content, foundation, Python, work, create\n",
      "\n",
      "Softwarové architektury has a bad score (2.58), because of Celková spokojenost s předmětem a náměty na zlepšení (score: 1.82).\n",
      "Most frequent words in this section: clear, time, semester, assignment, design, change, task, subject, work, approach\n",
      "\n",
      "Pilates has a bad score (2.75), because of Celková spokojenost s předmětem a náměty na zlepšení (score: 4.0).\n",
      "Most frequent words in this section: hour, covid\n",
      "\n",
      "Sportovní lezení has a bad score (2.75), because of Celková spokojenost s předmětem a náměty na zlepšení (score: 2.8).\n",
      "Most frequent words in this section: lesson, place, gonna, Online, version, theoretical, basis\n",
      "\n",
      "Neplavci a slabí plavci has a bad score (2.8), because of Celková spokojenost s předmětem a náměty na zlepšení (score: 4.0).\n",
      "Most frequent words in this section: \n",
      "\n",
      "Účetnictví I. has a bad score (2.94), because of Celková spokojenost s předmětem a náměty na zlepšení (score: 2.33).\n",
      "Most frequent words in this section: exercise, study, material, lecture, listen, monotonous, true, Ing, Janhubová, talk\n",
      "\n",
      "Hokej score got worse by -1.92, because of Celková spokojenost s předmětem a náměty na zlepšení (score: 4.0).\n",
      "Most frequent words in this section: \n",
      "\n",
      "Thai box score got worse by -1.7599999999999998, because of Celková spokojenost s předmětem a náměty na zlepšení (score: 2.5).\n",
      "Most frequent words in this section: \n",
      "\n",
      "Právo počítačové a informačních a komunikačních technologií score got worse by -0.8700000000000001, because of Celková spokojenost s předmětem a náměty na zlepšení (score: 2.5).\n",
      "Most frequent words in this section: guest\n",
      "\n",
      "Jak uspět v médiích score got worse by -0.8599999999999999, because of Celková spokojenost s předmětem a náměty na zlepšení (score: 1.0).\n",
      "Most frequent words in this section: \n",
      "\n",
      "Funkční kruhový trénink score got worse by -0.8199999999999998, because of Celková spokojenost s předmětem a náměty na zlepšení (score: 3.38).\n",
      "Most frequent words in this section: \n",
      "\n",
      "International Week - KIZI score got worse by -0.5800000000000001, because of Celková spokojenost s předmětem a náměty na zlepšení (score: 1.0).\n",
      "Most frequent words in this section: subject, focus, sound, attractive, unpleasant, surprise, small, copy, University, na\n",
      "\n",
      "Užití MS Excelu v podnikové praxi (v angličtině) score got worse by -0.5700000000000003, because of Celková spokojenost s předmětem a náměty na zlepšení (score: 3.08).\n",
      "Most frequent words in this section: student, class, business, English, Good, increase, knowledge, Excel, cooperate, focus\n",
      "\n",
      "Řízení podnikové výkonnosti v nástrojích CPM a její reporting score got worse by -0.56, because of Celková spokojenost s předmětem a náměty na zlepšení (score: 2.85).\n",
      "Most frequent words in this section: semester, work, Ready, doc, Marysky, clear, information, hand, Guests, want\n",
      "\n",
      "Využití ICT ve finančním účetnictví score got worse by -0.54, because of Celková spokojenost s předmětem a náměty na zlepšení (score: 1.5).\n",
      "Most frequent words in this section: Mr, Professor, Mejzlík, good, interpretation, impress, FIS, student, interest, finance\n",
      "\n"
     ]
    }
   ],
   "source": [
    "for index, row in df_new_and_existing_courses.iterrows():\n",
    "    if row['course_type'] == 'new':\n",
    "        print(row['course'] + ' has a bad score (' + str(row['score_mean']) + '), because of ' + row['reason_name'] + ' (score: ' + str(row['reason_value']) + ').\\nMost frequent words in this section: ' + row['reason_text'])\n",
    "        print()\n",
    "    elif row['course_type'] == 'existing':\n",
    "        print(row['course'] + ' score got worse by ' + str(row['score_mean_diff']) + ', because of ' + row['reason_name'] + ' (score: ' + str(row['reason_value']) + ').\\nMost frequent words in this section: ' + row['reason_text'])\n",
    "        print()"
   ]
  }
 ],
 "metadata": {
  "kernelspec": {
   "display_name": "Python 3",
   "language": "python",
   "name": "python3"
  },
  "language_info": {
   "codemirror_mode": {
    "name": "ipython",
    "version": 3
   },
   "file_extension": ".py",
   "mimetype": "text/x-python",
   "name": "python",
   "nbconvert_exporter": "python",
   "pygments_lexer": "ipython3",
   "version": "3.7.3"
  }
 },
 "nbformat": 4,
 "nbformat_minor": 4
}
