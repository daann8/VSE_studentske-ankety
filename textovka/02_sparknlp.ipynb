{
 "cells": [
  {
   "cell_type": "code",
   "execution_count": 2,
   "id": "cf4ee6f5",
   "metadata": {},
   "outputs": [
    {
     "name": "stdout",
     "output_type": "stream",
     "text": [
      "Spark NLP version:  3.0.3\n",
      "Spark version:  3.0.2\n"
     ]
    }
   ],
   "source": [
    "import sys\n",
    "\n",
    "from pyspark.sql import SparkSession\n",
    "from pyspark.ml import PipelineModel\n",
    "\n",
    "import sparknlp\n",
    "from sparknlp.annotator import *\n",
    "from sparknlp.common import *\n",
    "from sparknlp.base import *\n",
    "from sparknlp.pretrained import ResourceDownloader\n",
    "\n",
    "spark = sparknlp.start()\n",
    "\n",
    "print(\"Spark NLP version: \",sparknlp.version())\n",
    "print(\"Spark version: \", spark.version)"
   ]
  },
  {
   "cell_type": "code",
   "execution_count": 3,
   "id": "940370f9",
   "metadata": {},
   "outputs": [
    {
     "data": {
      "text/html": [
       "<div>\n",
       "<style scoped>\n",
       "    .dataframe tbody tr th:only-of-type {\n",
       "        vertical-align: middle;\n",
       "    }\n",
       "\n",
       "    .dataframe tbody tr th {\n",
       "        vertical-align: top;\n",
       "    }\n",
       "\n",
       "    .dataframe thead th {\n",
       "        text-align: right;\n",
       "    }\n",
       "</style>\n",
       "<table border=\"1\" class=\"dataframe\">\n",
       "  <thead>\n",
       "    <tr style=\"text-align: right;\">\n",
       "      <th></th>\n",
       "      <th>ID</th>\n",
       "      <th>OTAZKA</th>\n",
       "      <th>PEDAGOG</th>\n",
       "      <th>HODNOTA_CLOB_OCISTENO</th>\n",
       "      <th>SENTIMENT</th>\n",
       "    </tr>\n",
       "  </thead>\n",
       "  <tbody>\n",
       "    <tr>\n",
       "      <th>0</th>\n",
       "      <td>933</td>\n",
       "      <td>4</td>\n",
       "      <td>NaN</td>\n",
       "      <td>pravděpodobně odstranění připouštěcího testu k...</td>\n",
       "      <td>Negative</td>\n",
       "    </tr>\n",
       "    <tr>\n",
       "      <th>1</th>\n",
       "      <td>940</td>\n",
       "      <td>3</td>\n",
       "      <td>NaN</td>\n",
       "      <td>-nepovinná docházka s ústní zkouškou na konci</td>\n",
       "      <td>Positive</td>\n",
       "    </tr>\n",
       "    <tr>\n",
       "      <th>2</th>\n",
       "      <td>200</td>\n",
       "      <td>4</td>\n",
       "      <td>NaN</td>\n",
       "      <td>Minimální překrytí s agilním vývojem, byl to s...</td>\n",
       "      <td>Negative</td>\n",
       "    </tr>\n",
       "    <tr>\n",
       "      <th>3</th>\n",
       "      <td>206</td>\n",
       "      <td>3</td>\n",
       "      <td>NaN</td>\n",
       "      <td>Fajn pro lidi co chtějí umět jazyk react, host...</td>\n",
       "      <td>Positive</td>\n",
       "    </tr>\n",
       "    <tr>\n",
       "      <th>4</th>\n",
       "      <td>2344</td>\n",
       "      <td>4</td>\n",
       "      <td>NaN</td>\n",
       "      <td>lepší koncepce cvičení, občas mi přišlo, že se...</td>\n",
       "      <td>Negative</td>\n",
       "    </tr>\n",
       "  </tbody>\n",
       "</table>\n",
       "</div>"
      ],
      "text/plain": [
       "     ID  OTAZKA  PEDAGOG                              HODNOTA_CLOB_OCISTENO  \\\n",
       "0   933       4      NaN  pravděpodobně odstranění připouštěcího testu k...   \n",
       "1   940       3      NaN      -nepovinná docházka s ústní zkouškou na konci   \n",
       "2   200       4      NaN  Minimální překrytí s agilním vývojem, byl to s...   \n",
       "3   206       3      NaN  Fajn pro lidi co chtějí umět jazyk react, host...   \n",
       "4  2344       4      NaN  lepší koncepce cvičení, občas mi přišlo, že se...   \n",
       "\n",
       "  SENTIMENT  \n",
       "0  Negative  \n",
       "1  Positive  \n",
       "2  Negative  \n",
       "3  Positive  \n",
       "4  Negative  "
      ]
     },
     "execution_count": 3,
     "metadata": {},
     "output_type": "execute_result"
    }
   ],
   "source": [
    "import pandas as pd\n",
    "predmety = pd.read_csv(r'C:\\Users\\zbyne\\Documents\\čokoláda\\VŠE\\datový projekt\\Textová analytika - Projekt\\BaseCleanUp\\predmety_kit.csv')\n",
    "df_exportedPandas = pd.read_csv(r'C:\\Users\\zbyne\\Documents\\čokoláda\\VŠE\\datový projekt\\Textová analytika - Projekt\\BaseCleanUp\\Exported.csv')\n",
    "df_exportedPandas = df_exportedPandas.iloc[:,[1,3,4,5,6]]\n",
    "df_exportedPandas.head()"
   ]
  },
  {
   "cell_type": "code",
   "execution_count": 4,
   "id": "06feb477",
   "metadata": {},
   "outputs": [],
   "source": [
    "prdmt = list(predmety.iloc[:,2])"
   ]
  },
  {
   "cell_type": "code",
   "execution_count": 5,
   "id": "9d52d5a4",
   "metadata": {},
   "outputs": [],
   "source": [
    "import numpy as np\n",
    "\n",
    "spark.conf.set(\"spark.sql.execution.arrow.enabled\", \"true\")\n",
    "#create sparkdf from pandas dataframe\n",
    "data = spark.createDataFrame(df_exportedPandas)\n"
   ]
  },
  {
   "cell_type": "code",
   "execution_count": 6,
   "id": "7e6fd77c",
   "metadata": {},
   "outputs": [
    {
     "name": "stdout",
     "output_type": "stream",
     "text": [
      "+-----+------+-------+---------------------+---------+\n",
      "|   ID|OTAZKA|PEDAGOG|HODNOTA_CLOB_OCISTENO|SENTIMENT|\n",
      "+-----+------+-------+---------------------+---------+\n",
      "|  933|     4|   null| pravděpodobně ods...| Negative|\n",
      "|  940|     3|   null| -nepovinná docház...| Positive|\n",
      "|  200|     4|   null| Minimální překryt...| Negative|\n",
      "|  206|     3|   null| Fajn pro lidi co ...| Positive|\n",
      "| 2344|     4|   null| lepší koncepce cv...| Negative|\n",
      "| 2345|     3|   null| přednášky externi...| Positive|\n",
      "| 1588|     4|   null| udělat místo před...| Negative|\n",
      "| 3576|     4|   null|     probrat ty makra| Negative|\n",
      "| 3582|     3|   null| naučíte se potřeb...| Positive|\n",
      "| 3608|     4|   null| bohužel velmi nep...| Negative|\n",
      "| 3612|     3|   null| na přednáškách ho...| Positive|\n",
      "| 5180|     3|   null|            praktické| Positive|\n",
      "| 6048|    23|   null| Na problematiku d...|  Neutral|\n",
      "| 9986|    23|   null| programování v Ja...|  Neutral|\n",
      "|10566|     3|   null| Vyzkoušeli jsme s...| Positive|\n",
      "|10632|    23|   null| Softwarové inžený...|  Neutral|\n",
      "|10633|     3|   null|       Práce v týmech| Positive|\n",
      "|10561|     4|   null| Teorie mi připada...| Negative|\n",
      "|12120|    23|   null| Základy BI jsou i...|  Neutral|\n",
      "|12943|    23|   null| Softwarové inžený...|  Neutral|\n",
      "+-----+------+-------+---------------------+---------+\n",
      "only showing top 20 rows\n",
      "\n"
     ]
    }
   ],
   "source": [
    "data.select(\"*\").show()"
   ]
  },
  {
   "cell_type": "code",
   "execution_count": 7,
   "id": "ca803dab",
   "metadata": {},
   "outputs": [],
   "source": [
    "document = DocumentAssembler() \\\n",
    "    .setInputCol('HODNOTA_CLOB_OCISTENO') \\\n",
    "    .setOutputCol('document') \\\n",
    "    .setCleanupMode(\"shrink\")"
   ]
  },
  {
   "cell_type": "code",
   "execution_count": 8,
   "id": "07277513",
   "metadata": {},
   "outputs": [
    {
     "name": "stdout",
     "output_type": "stream",
     "text": [
      "ld_wiki_tatoeba_cnn_21 download started this may take some time.\n",
      "Approximate size to download 7,1 MB\n",
      "[OK!]\n"
     ]
    }
   ],
   "source": [
    "language_detector = LanguageDetectorDL.pretrained(\"ld_wiki_tatoeba_cnn_21\") \\\n",
    "    .setInputCols([\"document\"]) \\\n",
    "    .setOutputCol(\"LANG\") \\\n",
    "    .setThreshold(0.8) \\\n",
    "    .setCoalesceSentences(True)"
   ]
  },
  {
   "cell_type": "code",
   "execution_count": 9,
   "id": "18dc391c",
   "metadata": {},
   "outputs": [
    {
     "name": "stdout",
     "output_type": "stream",
     "text": [
      "opus_mt_cs_en download started this may take some time.\n",
      "Approximate size to download 386,5 MB\n",
      "[OK!]\n"
     ]
    }
   ],
   "source": [
    "marian = MarianTransformer.pretrained(\"opus_mt_cs_en\", \"xx\") \\\n",
    "    .setInputCols([\"document\"]) \\\n",
    "    .setOutputCol(\"translation\")"
   ]
  },
  {
   "cell_type": "code",
   "execution_count": 10,
   "id": "5ff461b3",
   "metadata": {},
   "outputs": [],
   "source": [
    "sentence = SentenceDetector() \\\n",
    "    .setInputCols(\"translation\") \\\n",
    "    .setOutputCol('sentence')"
   ]
  },
  {
   "cell_type": "code",
   "execution_count": 11,
   "id": "5c890cfd",
   "metadata": {},
   "outputs": [],
   "source": [
    "tokenizer = Tokenizer() \\\n",
    "    .setInputCols('sentence') \\\n",
    "    .setOutputCol('token')"
   ]
  },
  {
   "cell_type": "code",
   "execution_count": 12,
   "id": "cdb949de",
   "metadata": {},
   "outputs": [
    {
     "name": "stdout",
     "output_type": "stream",
     "text": [
      "stopwords_en download started this may take some time.\n",
      "Approximate size to download 2,9 KB\n",
      "[OK!]\n"
     ]
    }
   ],
   "source": [
    "stop_words = StopWordsCleaner.pretrained(\"stopwords_en\", \"en\") \\\n",
    "        .setInputCols([\"token\"]) \\\n",
    "        .setOutputCol(\"cleanTokens\")"
   ]
  },
  {
   "cell_type": "code",
   "execution_count": 13,
   "id": "26dd5efb",
   "metadata": {},
   "outputs": [],
   "source": [
    "lemmatizer = Lemmatizer() \\\n",
    "    .setInputCols([\"cleanTokens\"]) \\\n",
    "    .setOutputCol(\"lemma\") \\\n",
    "    .setDictionary(\"./AntBNC_lemmas_ver_001.txt\", value_delimiter =\"\\t\", key_delimiter = \"->\")"
   ]
  },
  {
   "cell_type": "code",
   "execution_count": 14,
   "id": "1e56680f",
   "metadata": {},
   "outputs": [
    {
     "name": "stdout",
     "output_type": "stream",
     "text": [
      "pos_ud_ewt download started this may take some time.\n",
      "Approximate size to download 2,2 MB\n",
      "[OK!]\n"
     ]
    }
   ],
   "source": [
    "pos = PerceptronModel.pretrained(\"pos_ud_ewt\", \"en\") \\\n",
    "  .setInputCols([\"translation\", \"token\"]) \\\n",
    "  .setOutputCol(\"pos\")"
   ]
  },
  {
   "cell_type": "code",
   "execution_count": 15,
   "id": "9d88a5e9",
   "metadata": {},
   "outputs": [
    {
     "name": "stdout",
     "output_type": "stream",
     "text": [
      "sentiment_vivekn download started this may take some time.\n",
      "Approximate size to download 873,6 KB\n",
      "[OK!]\n"
     ]
    }
   ],
   "source": [
    "sentiment_detector = ViveknSentimentModel.pretrained() \\\n",
    "    .setInputCols([\"translation\", \"token\"]) \\\n",
    "    .setOutputCol(\"sentiment_result\")"
   ]
  },
  {
   "cell_type": "code",
   "execution_count": 16,
   "id": "6b2079ef",
   "metadata": {},
   "outputs": [],
   "source": [
    "nlp_pipeline = Pipeline(stages=[document,language_detector,marian,sentence,tokenizer,stop_words, lemmatizer,pos,sentiment_detector])\n",
    "model = nlp_pipeline.fit(data)\n",
    "result = model.transform(data)"
   ]
  },
  {
   "cell_type": "code",
   "execution_count": 17,
   "id": "908a39b0",
   "metadata": {},
   "outputs": [],
   "source": [
    "res = result.selectExpr('ID','OTAZKA','PEDAGOG','HODNOTA_CLOB_OCISTENO','LANG.result as LANG','token.result as token','lemma.result as lemma','pos.result as pos','sentiment_result.result as DetectSentiment','SENTIMENT')"
   ]
  },
  {
   "cell_type": "code",
   "execution_count": 18,
   "id": "238349c2",
   "metadata": {},
   "outputs": [
    {
     "data": {
      "text/plain": [
       "pyspark.sql.dataframe.DataFrame"
      ]
     },
     "execution_count": 18,
     "metadata": {},
     "output_type": "execute_result"
    }
   ],
   "source": [
    "type(res)"
   ]
  },
  {
   "cell_type": "code",
   "execution_count": 19,
   "id": "64c9f04d",
   "metadata": {},
   "outputs": [],
   "source": [
    "res_expPandasDF = res.toPandas()"
   ]
  },
  {
   "cell_type": "code",
   "execution_count": 23,
   "id": "8cd9b088",
   "metadata": {},
   "outputs": [],
   "source": [
    "res_expPandasDF.drop(columns = \"Length\",inplace = True)"
   ]
  },
  {
   "cell_type": "code",
   "execution_count": 24,
   "id": "2c63a5f8",
   "metadata": {},
   "outputs": [
    {
     "data": {
      "text/html": [
       "<div>\n",
       "<style scoped>\n",
       "    .dataframe tbody tr th:only-of-type {\n",
       "        vertical-align: middle;\n",
       "    }\n",
       "\n",
       "    .dataframe tbody tr th {\n",
       "        vertical-align: top;\n",
       "    }\n",
       "\n",
       "    .dataframe thead th {\n",
       "        text-align: right;\n",
       "    }\n",
       "</style>\n",
       "<table border=\"1\" class=\"dataframe\">\n",
       "  <thead>\n",
       "    <tr style=\"text-align: right;\">\n",
       "      <th></th>\n",
       "      <th>ID</th>\n",
       "      <th>OTAZKA</th>\n",
       "      <th>PEDAGOG</th>\n",
       "      <th>HODNOTA_CLOB_OCISTENO</th>\n",
       "      <th>LANG</th>\n",
       "      <th>token</th>\n",
       "      <th>lemma</th>\n",
       "      <th>pos</th>\n",
       "      <th>DetectSentiment</th>\n",
       "      <th>SENTIMENT</th>\n",
       "    </tr>\n",
       "  </thead>\n",
       "  <tbody>\n",
       "    <tr>\n",
       "      <th>0</th>\n",
       "      <td>933</td>\n",
       "      <td>4</td>\n",
       "      <td>NaN</td>\n",
       "      <td>pravděpodobně odstranění připouštěcího testu k...</td>\n",
       "      <td>[cs]</td>\n",
       "      <td>[probably, removing, the, pass, test, for, the...</td>\n",
       "      <td>[remove, pass, test, test, ,, test, farce, ,, ...</td>\n",
       "      <td>[ADV, VERB, DET, NOUN, NOUN, ADP, DET, NOUN, P...</td>\n",
       "      <td>[positive]</td>\n",
       "      <td>Negative</td>\n",
       "    </tr>\n",
       "    <tr>\n",
       "      <th>1</th>\n",
       "      <td>940</td>\n",
       "      <td>3</td>\n",
       "      <td>NaN</td>\n",
       "      <td>-nepovinná docházka s ústní zkouškou na konci</td>\n",
       "      <td>[cs]</td>\n",
       "      <td>[-, an, optional, attendance, with, a, oral, e...</td>\n",
       "      <td>[-, optional, attendance, oral, exam, end]</td>\n",
       "      <td>[PUNCT, DET, ADJ, NOUN, ADP, DET, ADJ, NOUN, A...</td>\n",
       "      <td>[negative]</td>\n",
       "      <td>Positive</td>\n",
       "    </tr>\n",
       "    <tr>\n",
       "      <th>2</th>\n",
       "      <td>200</td>\n",
       "      <td>4</td>\n",
       "      <td>NaN</td>\n",
       "      <td>Minimální překrytí s agilním vývojem, byl to s...</td>\n",
       "      <td>[cs]</td>\n",
       "      <td>[Minimum, overlap, with, agile, development, ,...</td>\n",
       "      <td>[Minimum, overlap, agile, development, ,, hard...</td>\n",
       "      <td>[ADJ, NOUN, ADP, NOUN, NOUN, PUNCT, PRON, AUX,...</td>\n",
       "      <td>[negative]</td>\n",
       "      <td>Negative</td>\n",
       "    </tr>\n",
       "    <tr>\n",
       "      <th>3</th>\n",
       "      <td>206</td>\n",
       "      <td>3</td>\n",
       "      <td>NaN</td>\n",
       "      <td>Fajn pro lidi co chtějí umět jazyk react, host...</td>\n",
       "      <td>[cs]</td>\n",
       "      <td>[Good, for, people, who, want, to, learn, the,...</td>\n",
       "      <td>[Good, people, learn, language, Fact, ,, guest...</td>\n",
       "      <td>[ADJ, ADP, NOUN, PRON, VERB, PART, VERB, DET, ...</td>\n",
       "      <td>[positive]</td>\n",
       "      <td>Positive</td>\n",
       "    </tr>\n",
       "    <tr>\n",
       "      <th>4</th>\n",
       "      <td>2344</td>\n",
       "      <td>4</td>\n",
       "      <td>NaN</td>\n",
       "      <td>lepší koncepce cvičení, občas mi přišlo, že se...</td>\n",
       "      <td>[cs]</td>\n",
       "      <td>[better, concept, of, exercise, ,, sometimes, ...</td>\n",
       "      <td>[concept, exercise, ,, think, exercise, base, ...</td>\n",
       "      <td>[ADJ, NOUN, ADP, NOUN, PUNCT, ADV, PRON, VERB,...</td>\n",
       "      <td>[positive]</td>\n",
       "      <td>Negative</td>\n",
       "    </tr>\n",
       "  </tbody>\n",
       "</table>\n",
       "</div>"
      ],
      "text/plain": [
       "     ID  OTAZKA  PEDAGOG                              HODNOTA_CLOB_OCISTENO  \\\n",
       "0   933       4      NaN  pravděpodobně odstranění připouštěcího testu k...   \n",
       "1   940       3      NaN      -nepovinná docházka s ústní zkouškou na konci   \n",
       "2   200       4      NaN  Minimální překrytí s agilním vývojem, byl to s...   \n",
       "3   206       3      NaN  Fajn pro lidi co chtějí umět jazyk react, host...   \n",
       "4  2344       4      NaN  lepší koncepce cvičení, občas mi přišlo, že se...   \n",
       "\n",
       "   LANG                                              token  \\\n",
       "0  [cs]  [probably, removing, the, pass, test, for, the...   \n",
       "1  [cs]  [-, an, optional, attendance, with, a, oral, e...   \n",
       "2  [cs]  [Minimum, overlap, with, agile, development, ,...   \n",
       "3  [cs]  [Good, for, people, who, want, to, learn, the,...   \n",
       "4  [cs]  [better, concept, of, exercise, ,, sometimes, ...   \n",
       "\n",
       "                                               lemma  \\\n",
       "0  [remove, pass, test, test, ,, test, farce, ,, ...   \n",
       "1         [-, optional, attendance, oral, exam, end]   \n",
       "2  [Minimum, overlap, agile, development, ,, hard...   \n",
       "3  [Good, people, learn, language, Fact, ,, guest...   \n",
       "4  [concept, exercise, ,, think, exercise, base, ...   \n",
       "\n",
       "                                                 pos DetectSentiment SENTIMENT  \n",
       "0  [ADV, VERB, DET, NOUN, NOUN, ADP, DET, NOUN, P...      [positive]  Negative  \n",
       "1  [PUNCT, DET, ADJ, NOUN, ADP, DET, ADJ, NOUN, A...      [negative]  Positive  \n",
       "2  [ADJ, NOUN, ADP, NOUN, NOUN, PUNCT, PRON, AUX,...      [negative]  Negative  \n",
       "3  [ADJ, ADP, NOUN, PRON, VERB, PART, VERB, DET, ...      [positive]  Positive  \n",
       "4  [ADJ, NOUN, ADP, NOUN, PUNCT, ADV, PRON, VERB,...      [positive]  Negative  "
      ]
     },
     "execution_count": 24,
     "metadata": {},
     "output_type": "execute_result"
    }
   ],
   "source": [
    "res_expPandasDF.head()"
   ]
  },
  {
   "cell_type": "code",
   "execution_count": null,
   "id": "81b3b775",
   "metadata": {},
   "outputs": [],
   "source": [
    "#print(res_expPandasDF.iloc[1,4], + len(res_expPandasDF.iloc[1,4]))"
   ]
  },
  {
   "cell_type": "code",
   "execution_count": 21,
   "id": "61999b8f",
   "metadata": {},
   "outputs": [],
   "source": [
    "listWithLength = []\n",
    "for i in range(len(res_expPandasDF)):\n",
    "    x = len(res_expPandasDF.iloc[i,4])\n",
    "    listWithLength.append(x)\n",
    "\n",
    "res_expPandasDF[\"Length\"] = listWithLength"
   ]
  },
  {
   "cell_type": "code",
   "execution_count": 26,
   "id": "f3d8f4be",
   "metadata": {},
   "outputs": [],
   "source": [
    "res_expPandasDF.to_csv(r'C:\\Users\\zbyne\\Documents\\čokoláda\\VŠE\\datový projekt\\Textová analytika - Projekt\\BaseCleanUp\\EnglishLemmaCloud.csv',encoding=\"utf-8\")"
   ]
  },
  {
   "cell_type": "code",
   "execution_count": 47,
   "id": "4f46ccf1",
   "metadata": {},
   "outputs": [],
   "source": [
    "#ShrinkedDF.to_csv(r'C:\\Users\\zbyne\\Documents\\čokoláda\\VŠE\\datový projekt\\Textová analytika - Projekt\\BaseCleanUp\\EnglishCloudWithLimitedLength.csv')"
   ]
  },
  {
   "cell_type": "code",
   "execution_count": null,
   "id": "625b8e67",
   "metadata": {},
   "outputs": [],
   "source": []
  }
 ],
 "metadata": {
  "kernelspec": {
   "display_name": "Python 3",
   "language": "python",
   "name": "python3"
  },
  "language_info": {
   "codemirror_mode": {
    "name": "ipython",
    "version": 3
   },
   "file_extension": ".py",
   "mimetype": "text/x-python",
   "name": "python",
   "nbconvert_exporter": "python",
   "pygments_lexer": "ipython3",
   "version": "3.6.13"
  }
 },
 "nbformat": 4,
 "nbformat_minor": 5
}
