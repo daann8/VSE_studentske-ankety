{
 "cells": [
  {
   "cell_type": "code",
   "execution_count": 39,
   "metadata": {},
   "outputs": [],
   "source": [
    "import pandas as pd\n",
    "import numpy as np"
   ]
  },
  {
   "cell_type": "code",
   "execution_count": 40,
   "metadata": {},
   "outputs": [],
   "source": [
    "df = pd.read_csv(r\"D:\\čokoláda\\VŠE\\Datový projekt\\datový projekt\\textovka\\CleanedLemmaToTf-Idf.txt\",engine = 'python')"
   ]
  },
  {
   "cell_type": "code",
   "execution_count": 41,
   "metadata": {},
   "outputs": [],
   "source": [
    "df = df.iloc[:,[2,12,11]]"
   ]
  },
  {
   "cell_type": "code",
   "execution_count": 42,
   "metadata": {},
   "outputs": [],
   "source": [
    "df[\"ConWord\"] = np.nan\n",
    "df[\"WordVal\"] = np.nan"
   ]
  },
  {
   "cell_type": "code",
   "execution_count": 43,
   "metadata": {},
   "outputs": [
    {
     "data": {
      "text/html": [
       "<div>\n",
       "<style scoped>\n",
       "    .dataframe tbody tr th:only-of-type {\n",
       "        vertical-align: middle;\n",
       "    }\n",
       "\n",
       "    .dataframe tbody tr th {\n",
       "        vertical-align: top;\n",
       "    }\n",
       "\n",
       "    .dataframe thead th {\n",
       "        text-align: right;\n",
       "    }\n",
       "</style>\n",
       "<table border=\"1\" class=\"dataframe\">\n",
       "  <thead>\n",
       "    <tr style=\"text-align: right;\">\n",
       "      <th></th>\n",
       "      <th>ID</th>\n",
       "      <th>lemma_cleaned</th>\n",
       "      <th>SENTIMENT</th>\n",
       "      <th>ConWord</th>\n",
       "      <th>WordVal</th>\n",
       "    </tr>\n",
       "  </thead>\n",
       "  <tbody>\n",
       "    <tr>\n",
       "      <th>0</th>\n",
       "      <td>933</td>\n",
       "      <td>remove pass test test , test farce , lecturer ...</td>\n",
       "      <td>Negative</td>\n",
       "      <td>NaN</td>\n",
       "      <td>NaN</td>\n",
       "    </tr>\n",
       "    <tr>\n",
       "      <th>1</th>\n",
       "      <td>940</td>\n",
       "      <td>- optional attendance oral exam end</td>\n",
       "      <td>Positive</td>\n",
       "      <td>NaN</td>\n",
       "      <td>NaN</td>\n",
       "    </tr>\n",
       "    <tr>\n",
       "      <th>2</th>\n",
       "      <td>200</td>\n",
       "      <td>Minimum overlap agile development , hard reaction</td>\n",
       "      <td>Negative</td>\n",
       "      <td>NaN</td>\n",
       "      <td>NaN</td>\n",
       "    </tr>\n",
       "    <tr>\n",
       "      <th>3</th>\n",
       "      <td>206</td>\n",
       "      <td>Good people learn language Fact , guest lecture</td>\n",
       "      <td>Positive</td>\n",
       "      <td>NaN</td>\n",
       "      <td>NaN</td>\n",
       "    </tr>\n",
       "    <tr>\n",
       "      <th>4</th>\n",
       "      <td>2344</td>\n",
       "      <td>concept exercise , think exercise base prepare...</td>\n",
       "      <td>Negative</td>\n",
       "      <td>NaN</td>\n",
       "      <td>NaN</td>\n",
       "    </tr>\n",
       "  </tbody>\n",
       "</table>\n",
       "</div>"
      ],
      "text/plain": [
       "     ID                                      lemma_cleaned SENTIMENT  ConWord  \\\n",
       "0   933  remove pass test test , test farce , lecturer ...  Negative      NaN   \n",
       "1   940                - optional attendance oral exam end  Positive      NaN   \n",
       "2   200  Minimum overlap agile development , hard reaction  Negative      NaN   \n",
       "3   206    Good people learn language Fact , guest lecture  Positive      NaN   \n",
       "4  2344  concept exercise , think exercise base prepare...  Negative      NaN   \n",
       "\n",
       "   WordVal  \n",
       "0      NaN  \n",
       "1      NaN  \n",
       "2      NaN  \n",
       "3      NaN  \n",
       "4      NaN  "
      ]
     },
     "execution_count": 43,
     "metadata": {},
     "output_type": "execute_result"
    }
   ],
   "source": [
    "df.head()"
   ]
  },
  {
   "cell_type": "code",
   "execution_count": 44,
   "metadata": {},
   "outputs": [],
   "source": [
    "df_positive=pd.read_csv(r'D:\\čokoláda\\VŠE\\Datový projekt\\datový projekt\\textovka\\Positive-Idf.txt',engine = 'python')\n",
    "df_negative=pd.read_csv(r'D:\\čokoláda\\VŠE\\Datový projekt\\datový projekt\\textovka\\Negative-Idf.txt',engine = 'python')"
   ]
  },
  {
   "cell_type": "code",
   "execution_count": 45,
   "metadata": {},
   "outputs": [],
   "source": [
    "df_positive[\"Sentiment\"] = \"Positive\"\n",
    "df_negative[\"Sentiment\"] = \"Negative\""
   ]
  },
  {
   "cell_type": "code",
   "execution_count": 46,
   "metadata": {},
   "outputs": [],
   "source": [
    "df_importance = pd.concat([df_positive,df_negative])"
   ]
  },
  {
   "cell_type": "code",
   "execution_count": 47,
   "metadata": {},
   "outputs": [
    {
     "data": {
      "text/plain": [
       "(2238, 4)"
      ]
     },
     "execution_count": 47,
     "metadata": {},
     "output_type": "execute_result"
    }
   ],
   "source": [
    "df_importance.shape"
   ]
  },
  {
   "cell_type": "code",
   "execution_count": 48,
   "metadata": {},
   "outputs": [
    {
     "data": {
      "text/html": [
       "<div>\n",
       "<style scoped>\n",
       "    .dataframe tbody tr th:only-of-type {\n",
       "        vertical-align: middle;\n",
       "    }\n",
       "\n",
       "    .dataframe tbody tr th {\n",
       "        vertical-align: top;\n",
       "    }\n",
       "\n",
       "    .dataframe thead th {\n",
       "        text-align: right;\n",
       "    }\n",
       "</style>\n",
       "<table border=\"1\" class=\"dataframe\">\n",
       "  <thead>\n",
       "    <tr style=\"text-align: right;\">\n",
       "      <th></th>\n",
       "      <th>word</th>\n",
       "      <th>importance</th>\n",
       "      <th>rank</th>\n",
       "      <th>Sentiment</th>\n",
       "    </tr>\n",
       "  </thead>\n",
       "  <tbody>\n",
       "    <tr>\n",
       "      <th>0</th>\n",
       "      <td>exercise</td>\n",
       "      <td>168.192735</td>\n",
       "      <td>1.0</td>\n",
       "      <td>Positive</td>\n",
       "    </tr>\n",
       "    <tr>\n",
       "      <th>1</th>\n",
       "      <td>online</td>\n",
       "      <td>102.104435</td>\n",
       "      <td>3.0</td>\n",
       "      <td>Positive</td>\n",
       "    </tr>\n",
       "    <tr>\n",
       "      <th>2</th>\n",
       "      <td>practical</td>\n",
       "      <td>101.083419</td>\n",
       "      <td>4.0</td>\n",
       "      <td>Positive</td>\n",
       "    </tr>\n",
       "    <tr>\n",
       "      <th>3</th>\n",
       "      <td>practice</td>\n",
       "      <td>91.034144</td>\n",
       "      <td>5.0</td>\n",
       "      <td>Positive</td>\n",
       "    </tr>\n",
       "    <tr>\n",
       "      <th>0</th>\n",
       "      <td>lecture</td>\n",
       "      <td>84.810316</td>\n",
       "      <td>1.0</td>\n",
       "      <td>Negative</td>\n",
       "    </tr>\n",
       "  </tbody>\n",
       "</table>\n",
       "</div>"
      ],
      "text/plain": [
       "        word  importance  rank Sentiment\n",
       "0   exercise  168.192735   1.0  Positive\n",
       "1     online  102.104435   3.0  Positive\n",
       "2  practical  101.083419   4.0  Positive\n",
       "3   practice   91.034144   5.0  Positive\n",
       "0    lecture   84.810316   1.0  Negative"
      ]
     },
     "execution_count": 48,
     "metadata": {},
     "output_type": "execute_result"
    }
   ],
   "source": [
    "df_importance.sort_values(by=[\"importance\"],inplace = True,ascending = False)\n",
    "df_importance.head()"
   ]
  },
  {
   "cell_type": "code",
   "execution_count": 49,
   "metadata": {},
   "outputs": [
    {
     "name": "stdout",
     "output_type": "stream",
     "text": [
      "ID                 int64\n",
      "lemma_cleaned     object\n",
      "SENTIMENT         object\n",
      "ConWord          float64\n",
      "WordVal          float64\n",
      "dtype: object\n"
     ]
    }
   ],
   "source": [
    "print(df.dtypes)\n",
    "df[\"ConWord\"] = df[\"ConWord\"].astype('object') #--> gotta be object otherwise can't store list"
   ]
  },
  {
   "cell_type": "code",
   "execution_count": 50,
   "metadata": {},
   "outputs": [],
   "source": [
    "#for every row creates list of words if the word from df_importance is in\n",
    "for i in range(len(df)):\n",
    "    lstwrd = []\n",
    "    \n",
    "    for word in list(df_importance.iloc[:,0]):\n",
    "        try:\n",
    "            if word in df.iloc[i,1].split(\" \",-1):\n",
    "                lstwrd.append(word)\n",
    "        except AttributeError:\n",
    "            lstwrd = []\n",
    "\n",
    "    if len(lstwrd) > 0:\n",
    "        df.at[i,\"ConWord\"] = lstwrd #word\n",
    "        \n",
    "    else:\n",
    "        df.at[i,\"ConWord\"] = []\n",
    "        "
   ]
  },
  {
   "cell_type": "code",
   "execution_count": 51,
   "metadata": {},
   "outputs": [
    {
     "data": {
      "text/html": [
       "<div>\n",
       "<style scoped>\n",
       "    .dataframe tbody tr th:only-of-type {\n",
       "        vertical-align: middle;\n",
       "    }\n",
       "\n",
       "    .dataframe tbody tr th {\n",
       "        vertical-align: top;\n",
       "    }\n",
       "\n",
       "    .dataframe thead th {\n",
       "        text-align: right;\n",
       "    }\n",
       "</style>\n",
       "<table border=\"1\" class=\"dataframe\">\n",
       "  <thead>\n",
       "    <tr style=\"text-align: right;\">\n",
       "      <th></th>\n",
       "      <th>ID</th>\n",
       "      <th>lemma_cleaned</th>\n",
       "      <th>SENTIMENT</th>\n",
       "      <th>ConWord</th>\n",
       "      <th>WordVal</th>\n",
       "    </tr>\n",
       "  </thead>\n",
       "  <tbody>\n",
       "    <tr>\n",
       "      <th>6156</th>\n",
       "      <td>1820279</td>\n",
       "      <td>problem distance learn .</td>\n",
       "      <td>Positive</td>\n",
       "      <td>[learn, distance, problem]</td>\n",
       "      <td>NaN</td>\n",
       "    </tr>\n",
       "    <tr>\n",
       "      <th>6157</th>\n",
       "      <td>1890545</td>\n",
       "      <td>Basic marketing computer science statistics</td>\n",
       "      <td>Neutral</td>\n",
       "      <td>[computer, science, marketing]</td>\n",
       "      <td>NaN</td>\n",
       "    </tr>\n",
       "    <tr>\n",
       "      <th>6158</th>\n",
       "      <td>1890675</td>\n",
       "      <td>Recording clock</td>\n",
       "      <td>Positive</td>\n",
       "      <td>[clock]</td>\n",
       "      <td>NaN</td>\n",
       "    </tr>\n",
       "    <tr>\n",
       "      <th>6159</th>\n",
       "      <td>1890707</td>\n",
       "      <td>teamwork</td>\n",
       "      <td>Negative</td>\n",
       "      <td>[teamwork]</td>\n",
       "      <td>NaN</td>\n",
       "    </tr>\n",
       "    <tr>\n",
       "      <th>6160</th>\n",
       "      <td>1890711</td>\n",
       "      <td>Guests practice</td>\n",
       "      <td>Positive</td>\n",
       "      <td>[practice]</td>\n",
       "      <td>NaN</td>\n",
       "    </tr>\n",
       "  </tbody>\n",
       "</table>\n",
       "</div>"
      ],
      "text/plain": [
       "           ID                                lemma_cleaned SENTIMENT  \\\n",
       "6156  1820279                     problem distance learn .  Positive   \n",
       "6157  1890545  Basic marketing computer science statistics   Neutral   \n",
       "6158  1890675                              Recording clock  Positive   \n",
       "6159  1890707                                     teamwork  Negative   \n",
       "6160  1890711                              Guests practice  Positive   \n",
       "\n",
       "                             ConWord  WordVal  \n",
       "6156      [learn, distance, problem]      NaN  \n",
       "6157  [computer, science, marketing]      NaN  \n",
       "6158                         [clock]      NaN  \n",
       "6159                      [teamwork]      NaN  \n",
       "6160                      [practice]      NaN  "
      ]
     },
     "execution_count": 51,
     "metadata": {},
     "output_type": "execute_result"
    }
   ],
   "source": [
    "#explore results\n",
    "df.tail()"
   ]
  },
  {
   "cell_type": "code",
   "execution_count": 52,
   "metadata": {},
   "outputs": [
    {
     "name": "stdout",
     "output_type": "stream",
     "text": [
      "4\n",
      "['subject', 'issue', 'database', 'run']\n"
     ]
    }
   ],
   "source": [
    "#just run some test\n",
    "row_value = df.iloc[11,:].copy()\n",
    "print(len(row_value[\"ConWord\"]))\n",
    "print(row_value[\"ConWord\"])"
   ]
  },
  {
   "cell_type": "code",
   "execution_count": 53,
   "metadata": {},
   "outputs": [],
   "source": [
    "#create copy of df(just to have some columns)\n",
    "TestDf = df.iloc[0:2,:].copy()\n",
    "#clear rows\n",
    "TestDf = TestDf[0:0]\n",
    "IterateDf = df.iloc[:,:].copy()\n",
    "\n",
    "#for every row in iteratedf take that row and store it as row_value \n",
    "for row in range(len(IterateDf)):\n",
    "    row_value = IterateDf.iloc[row,:].copy()\n",
    "\n",
    "#for every word in row_value column con word\n",
    "    for word in row_value[\"ConWord\"]:\n",
    "        #take one of the words and assign it as new value of that col\n",
    "        row_value[\"ConWord\"] = word\n",
    "        TestDf = TestDf.append(row_value)\n",
    "    "
   ]
  },
  {
   "cell_type": "code",
   "execution_count": 59,
   "metadata": {},
   "outputs": [],
   "source": [
    "#Merge Df & df with importance\n",
    "ResultDf = pd.merge(TestDf,df_importance, left_on = \"ConWord\", right_on = \"word\", how = \"left\",validate = \"m:m\")"
   ]
  },
  {
   "cell_type": "code",
   "execution_count": 60,
   "metadata": {},
   "outputs": [
    {
     "data": {
      "text/html": [
       "<div>\n",
       "<style scoped>\n",
       "    .dataframe tbody tr th:only-of-type {\n",
       "        vertical-align: middle;\n",
       "    }\n",
       "\n",
       "    .dataframe tbody tr th {\n",
       "        vertical-align: top;\n",
       "    }\n",
       "\n",
       "    .dataframe thead th {\n",
       "        text-align: right;\n",
       "    }\n",
       "</style>\n",
       "<table border=\"1\" class=\"dataframe\">\n",
       "  <thead>\n",
       "    <tr style=\"text-align: right;\">\n",
       "      <th></th>\n",
       "      <th>ID</th>\n",
       "      <th>lemma_cleaned</th>\n",
       "      <th>SENTIMENT</th>\n",
       "      <th>ConWord</th>\n",
       "      <th>WordVal</th>\n",
       "      <th>word</th>\n",
       "      <th>importance</th>\n",
       "      <th>rank</th>\n",
       "      <th>Sentiment</th>\n",
       "    </tr>\n",
       "  </thead>\n",
       "  <tbody>\n",
       "    <tr>\n",
       "      <th>0</th>\n",
       "      <td>933</td>\n",
       "      <td>remove pass test test , test farce , lecturer ...</td>\n",
       "      <td>Negative</td>\n",
       "      <td>test</td>\n",
       "      <td>NaN</td>\n",
       "      <td>test</td>\n",
       "      <td>35.921271</td>\n",
       "      <td>9.0</td>\n",
       "      <td>Negative</td>\n",
       "    </tr>\n",
       "    <tr>\n",
       "      <th>1</th>\n",
       "      <td>933</td>\n",
       "      <td>remove pass test test , test farce , lecturer ...</td>\n",
       "      <td>Negative</td>\n",
       "      <td>lecturer</td>\n",
       "      <td>NaN</td>\n",
       "      <td>lecturer</td>\n",
       "      <td>22.076795</td>\n",
       "      <td>46.0</td>\n",
       "      <td>Positive</td>\n",
       "    </tr>\n",
       "    <tr>\n",
       "      <th>2</th>\n",
       "      <td>933</td>\n",
       "      <td>remove pass test test , test farce , lecturer ...</td>\n",
       "      <td>Negative</td>\n",
       "      <td>hour</td>\n",
       "      <td>NaN</td>\n",
       "      <td>hour</td>\n",
       "      <td>14.007415</td>\n",
       "      <td>52.0</td>\n",
       "      <td>Negative</td>\n",
       "    </tr>\n",
       "    <tr>\n",
       "      <th>3</th>\n",
       "      <td>933</td>\n",
       "      <td>remove pass test test , test farce , lecturer ...</td>\n",
       "      <td>Negative</td>\n",
       "      <td>pass</td>\n",
       "      <td>NaN</td>\n",
       "      <td>pass</td>\n",
       "      <td>4.096274</td>\n",
       "      <td>274.0</td>\n",
       "      <td>Positive</td>\n",
       "    </tr>\n",
       "    <tr>\n",
       "      <th>4</th>\n",
       "      <td>933</td>\n",
       "      <td>remove pass test test , test farce , lecturer ...</td>\n",
       "      <td>Negative</td>\n",
       "      <td>remove</td>\n",
       "      <td>NaN</td>\n",
       "      <td>remove</td>\n",
       "      <td>2.018012</td>\n",
       "      <td>470.0</td>\n",
       "      <td>Negative</td>\n",
       "    </tr>\n",
       "  </tbody>\n",
       "</table>\n",
       "</div>"
      ],
      "text/plain": [
       "    ID                                      lemma_cleaned SENTIMENT   ConWord  \\\n",
       "0  933  remove pass test test , test farce , lecturer ...  Negative      test   \n",
       "1  933  remove pass test test , test farce , lecturer ...  Negative  lecturer   \n",
       "2  933  remove pass test test , test farce , lecturer ...  Negative      hour   \n",
       "3  933  remove pass test test , test farce , lecturer ...  Negative      pass   \n",
       "4  933  remove pass test test , test farce , lecturer ...  Negative    remove   \n",
       "\n",
       "   WordVal      word  importance   rank Sentiment  \n",
       "0      NaN      test   35.921271    9.0  Negative  \n",
       "1      NaN  lecturer   22.076795   46.0  Positive  \n",
       "2      NaN      hour   14.007415   52.0  Negative  \n",
       "3      NaN      pass    4.096274  274.0  Positive  \n",
       "4      NaN    remove    2.018012  470.0  Negative  "
      ]
     },
     "execution_count": 60,
     "metadata": {},
     "output_type": "execute_result"
    }
   ],
   "source": [
    "ResultDf.head()"
   ]
  },
  {
   "cell_type": "code",
   "execution_count": 61,
   "metadata": {},
   "outputs": [],
   "source": [
    "#Take only relevant cols\n",
    "ResultDf = ResultDf[[\"ID\",\"lemma_cleaned\",\"Sentiment\",\"word\",\"importance\"]]"
   ]
  },
  {
   "cell_type": "code",
   "execution_count": 62,
   "metadata": {},
   "outputs": [],
   "source": [
    "#Save result\n",
    "ResultDf.to_csv(r\"D:\\čokoláda\\VŠE\\Datový projekt\\datový projekt\\textovka\\WordsWithImportance.csv\")"
   ]
  },
  {
   "cell_type": "code",
   "execution_count": null,
   "metadata": {},
   "outputs": [],
   "source": []
  }
 ],
 "metadata": {
  "kernelspec": {
   "display_name": "Python 3",
   "language": "python",
   "name": "python3"
  },
  "language_info": {
   "codemirror_mode": {
    "name": "ipython",
    "version": 3
   },
   "file_extension": ".py",
   "mimetype": "text/x-python",
   "name": "python",
   "nbconvert_exporter": "python",
   "pygments_lexer": "ipython3",
   "version": "3.6.5"
  }
 },
 "nbformat": 4,
 "nbformat_minor": 2
}
